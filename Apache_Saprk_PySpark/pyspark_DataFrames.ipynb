{
 "cells": [
  {
   "cell_type": "markdown",
   "metadata": {},
   "source": [
    "<h2>Topics Covered</h2>\n",
    "PySpark DataFrames\n",
    "<br>Reading CSV Datasets with 1st row as header\n",
    "<br>Checking the Data-Types of Columns(Schema)\n",
    "<br>Selecting One or More Columns to display\n",
    "<br>PySpark describe options like Pandas\n",
    "<br>Adding Columns\n",
    "<br>Dropping Columns\n",
    "<br>Renaming Columns"
   ]
  },
  {
   "cell_type": "code",
   "execution_count": 2,
   "metadata": {},
   "outputs": [],
   "source": [
    "from pyspark.sql import SparkSession as SS"
   ]
  },
  {
   "cell_type": "code",
   "execution_count": 3,
   "metadata": {},
   "outputs": [],
   "source": [
    "# Building a spark session\n",
    "spark = SS.builder.appName('Dataframe').getOrCreate()"
   ]
  },
  {
   "cell_type": "code",
   "execution_count": 4,
   "metadata": {},
   "outputs": [
    {
     "data": {
      "text/html": [
       "\n",
       "            <div>\n",
       "                <p><b>SparkSession - in-memory</b></p>\n",
       "                \n",
       "        <div>\n",
       "            <p><b>SparkContext</b></p>\n",
       "\n",
       "            <p><a href=\"http://AlexMercer99:4040\">Spark UI</a></p>\n",
       "\n",
       "            <dl>\n",
       "              <dt>Version</dt>\n",
       "                <dd><code>v3.5.1</code></dd>\n",
       "              <dt>Master</dt>\n",
       "                <dd><code>local[*]</code></dd>\n",
       "              <dt>AppName</dt>\n",
       "                <dd><code>Dataframe</code></dd>\n",
       "            </dl>\n",
       "        </div>\n",
       "        \n",
       "            </div>\n",
       "        "
      ],
      "text/plain": [
       "<pyspark.sql.session.SparkSession at 0x1f01c196670>"
      ]
     },
     "execution_count": 4,
     "metadata": {},
     "output_type": "execute_result"
    }
   ],
   "source": [
    "spark"
   ]
  },
  {
   "cell_type": "code",
   "execution_count": 6,
   "metadata": {},
   "outputs": [],
   "source": [
    "df_spark = spark.read.option('header','true').csv('Customers_Details.csv',sep=';',inferSchema = True)"
   ]
  },
  {
   "cell_type": "code",
   "execution_count": 7,
   "metadata": {},
   "outputs": [
    {
     "name": "stdout",
     "output_type": "stream",
     "text": [
      "+-----------+------------+--------------------+\n",
      "|Customer_ID|Customer_Age|      Customer_Email|\n",
      "+-----------+------------+--------------------+\n",
      "|          1|          30|maria_cramer87@gm...|\n",
      "|          2|          41| j_steal@hotmail.com|\n",
      "|          3|          50|georg_pipps@outlo...|\n",
      "|          6|          25|andrea_nelson@gma...|\n",
      "+-----------+------------+--------------------+\n",
      "\n"
     ]
    }
   ],
   "source": [
    "df_spark.show()"
   ]
  },
  {
   "cell_type": "code",
   "execution_count": 8,
   "metadata": {},
   "outputs": [
    {
     "name": "stdout",
     "output_type": "stream",
     "text": [
      "root\n",
      " |-- Customer_ID: integer (nullable = true)\n",
      " |-- Customer_Age: integer (nullable = true)\n",
      " |-- Customer_Email: string (nullable = true)\n",
      "\n"
     ]
    }
   ],
   "source": [
    "# Checking Schema\n",
    "df_spark.printSchema()"
   ]
  },
  {
   "cell_type": "code",
   "execution_count": 9,
   "metadata": {},
   "outputs": [
    {
     "name": "stdout",
     "output_type": "stream",
     "text": [
      "+-----------+------------+--------------------+\n",
      "|Customer_ID|Customer_Age|      Customer_Email|\n",
      "+-----------+------------+--------------------+\n",
      "|          1|          30|maria_cramer87@gm...|\n",
      "|          2|          41| j_steal@hotmail.com|\n",
      "|          3|          50|georg_pipps@outlo...|\n",
      "|          6|          25|andrea_nelson@gma...|\n",
      "+-----------+------------+--------------------+\n",
      "\n"
     ]
    }
   ],
   "source": [
    "df_spark = spark.read.csv('Customers_Details.csv',sep=';',header=True,inferSchema=True)\n",
    "df_spark.show()"
   ]
  },
  {
   "cell_type": "code",
   "execution_count": 10,
   "metadata": {},
   "outputs": [
    {
     "name": "stdout",
     "output_type": "stream",
     "text": [
      "root\n",
      " |-- Customer_ID: integer (nullable = true)\n",
      " |-- Customer_Age: integer (nullable = true)\n",
      " |-- Customer_Email: string (nullable = true)\n",
      "\n"
     ]
    }
   ],
   "source": [
    "# Checking Schema\n",
    "df_spark.printSchema()"
   ]
  },
  {
   "cell_type": "code",
   "execution_count": 11,
   "metadata": {},
   "outputs": [
    {
     "data": {
      "text/plain": [
       "pyspark.sql.dataframe.DataFrame"
      ]
     },
     "execution_count": 11,
     "metadata": {},
     "output_type": "execute_result"
    }
   ],
   "source": [
    "type(df_spark)"
   ]
  },
  {
   "cell_type": "code",
   "execution_count": 12,
   "metadata": {},
   "outputs": [
    {
     "name": "stdout",
     "output_type": "stream",
     "text": [
      "['Customer_ID', 'Customer_Age', 'Customer_Email']\n"
     ]
    },
    {
     "data": {
      "text/plain": [
       "[Row(Customer_ID=1, Customer_Age=30, Customer_Email='maria_cramer87@gmail.com'),\n",
       " Row(Customer_ID=2, Customer_Age=41, Customer_Email='j_steal@hotmail.com'),\n",
       " Row(Customer_ID=3, Customer_Age=50, Customer_Email='georg_pipps@outlook.com')]"
      ]
     },
     "execution_count": 12,
     "metadata": {},
     "output_type": "execute_result"
    }
   ],
   "source": [
    "print(df_spark.columns)\n",
    "df_spark.head(3)"
   ]
  },
  {
   "cell_type": "code",
   "execution_count": 13,
   "metadata": {},
   "outputs": [
    {
     "name": "stdout",
     "output_type": "stream",
     "text": [
      "+-----------+\n",
      "|Customer_ID|\n",
      "+-----------+\n",
      "|          1|\n",
      "|          2|\n",
      "|          3|\n",
      "|          6|\n",
      "+-----------+\n",
      "\n"
     ]
    }
   ],
   "source": [
    "# Selecting a single column\n",
    "df_spark.select('Customer_ID').show()"
   ]
  },
  {
   "cell_type": "code",
   "execution_count": 14,
   "metadata": {},
   "outputs": [
    {
     "name": "stdout",
     "output_type": "stream",
     "text": [
      "+-----------+------------+\n",
      "|Customer_ID|Customer_Age|\n",
      "+-----------+------------+\n",
      "|          1|          30|\n",
      "|          2|          41|\n",
      "|          3|          50|\n",
      "|          6|          25|\n",
      "+-----------+------------+\n",
      "\n"
     ]
    }
   ],
   "source": [
    "# Selecting a multiple column\n",
    "df_spark.select(['Customer_ID','Customer_Age']).show()"
   ]
  },
  {
   "cell_type": "code",
   "execution_count": 15,
   "metadata": {},
   "outputs": [
    {
     "data": {
      "text/plain": [
       "[('Customer_ID', 'int'), ('Customer_Age', 'int'), ('Customer_Email', 'string')]"
      ]
     },
     "execution_count": 15,
     "metadata": {},
     "output_type": "execute_result"
    }
   ],
   "source": [
    "df_spark.dtypes"
   ]
  },
  {
   "cell_type": "code",
   "execution_count": 16,
   "metadata": {},
   "outputs": [
    {
     "name": "stdout",
     "output_type": "stream",
     "text": [
      "+-------+-----------------+------------------+--------------------+\n",
      "|summary|      Customer_ID|      Customer_Age|      Customer_Email|\n",
      "+-------+-----------------+------------------+--------------------+\n",
      "|  count|                4|                 4|                   4|\n",
      "|   mean|              3.0|              36.5|                NULL|\n",
      "| stddev|2.160246899469287|11.210114480533493|                NULL|\n",
      "|    min|                1|                25|andrea_nelson@gma...|\n",
      "|    max|                6|                50|maria_cramer87@gm...|\n",
      "+-------+-----------------+------------------+--------------------+\n",
      "\n"
     ]
    }
   ],
   "source": [
    "df_spark.describe().show()"
   ]
  },
  {
   "cell_type": "code",
   "execution_count": 17,
   "metadata": {},
   "outputs": [],
   "source": [
    "# Adding Cloumns\n",
    "df_spark = df_spark.withColumn('Address',df_spark['Customer_ID']+5000)"
   ]
  },
  {
   "cell_type": "code",
   "execution_count": 18,
   "metadata": {},
   "outputs": [
    {
     "name": "stdout",
     "output_type": "stream",
     "text": [
      "+-----------+------------+--------------------+-------+\n",
      "|Customer_ID|Customer_Age|      Customer_Email|Address|\n",
      "+-----------+------------+--------------------+-------+\n",
      "|          1|          30|maria_cramer87@gm...|   5001|\n",
      "|          2|          41| j_steal@hotmail.com|   5002|\n",
      "|          3|          50|georg_pipps@outlo...|   5003|\n",
      "|          6|          25|andrea_nelson@gma...|   5006|\n",
      "+-----------+------------+--------------------+-------+\n",
      "\n"
     ]
    }
   ],
   "source": [
    "df_spark.show() "
   ]
  },
  {
   "cell_type": "code",
   "execution_count": 19,
   "metadata": {},
   "outputs": [],
   "source": [
    "df_spark = df_spark.drop('Address')"
   ]
  },
  {
   "cell_type": "code",
   "execution_count": 20,
   "metadata": {},
   "outputs": [
    {
     "name": "stdout",
     "output_type": "stream",
     "text": [
      "+-----------+------------+--------------------+\n",
      "|Customer_ID|Customer_Age|      Customer_Email|\n",
      "+-----------+------------+--------------------+\n",
      "|          1|          30|maria_cramer87@gm...|\n",
      "|          2|          41| j_steal@hotmail.com|\n",
      "|          3|          50|georg_pipps@outlo...|\n",
      "|          6|          25|andrea_nelson@gma...|\n",
      "+-----------+------------+--------------------+\n",
      "\n"
     ]
    }
   ],
   "source": [
    "df_spark.show()"
   ]
  },
  {
   "cell_type": "code",
   "execution_count": 21,
   "metadata": {},
   "outputs": [
    {
     "name": "stdout",
     "output_type": "stream",
     "text": [
      "+---+------------+--------------------+\n",
      "| ID|Customer_Age|      Customer_Email|\n",
      "+---+------------+--------------------+\n",
      "|  1|          30|maria_cramer87@gm...|\n",
      "|  2|          41| j_steal@hotmail.com|\n",
      "|  3|          50|georg_pipps@outlo...|\n",
      "|  6|          25|andrea_nelson@gma...|\n",
      "+---+------------+--------------------+\n",
      "\n"
     ]
    }
   ],
   "source": [
    "# Rename a coulumn\n",
    "df_spark.withColumnRenamed('Customer_ID','ID').show()"
   ]
  }
 ],
 "metadata": {
  "kernelspec": {
   "display_name": "Python 3",
   "language": "python",
   "name": "python3"
  },
  "language_info": {
   "codemirror_mode": {
    "name": "ipython",
    "version": 3
   },
   "file_extension": ".py",
   "mimetype": "text/x-python",
   "name": "python",
   "nbconvert_exporter": "python",
   "pygments_lexer": "ipython3",
   "version": "3.9.7"
  }
 },
 "nbformat": 4,
 "nbformat_minor": 2
}
